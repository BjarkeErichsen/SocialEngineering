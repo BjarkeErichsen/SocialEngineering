{
 "cells": [
  {
   "attachments": {},
   "cell_type": "markdown",
   "metadata": {},
   "source": [
    "# Project Twitter network"
   ]
  },
  {
   "cell_type": "code",
   "execution_count": 5,
   "metadata": {},
   "outputs": [],
   "source": [
    "#!pip install bs4\n",
    "#!pip install requests\n",
    "#!pip install pandas\n",
    "#!pip install matplotlib\n",
    "from bs4 import BeautifulSoup\n",
    "import requests\n",
    "import pandas as pd\n",
    "import re\n",
    "import numpy as np\n",
    "import time \n",
    "import matplotlib.pyplot as plt\n",
    "import matplotlib as mpl\n"
   ]
  },
  {
   "cell_type": "code",
   "execution_count": 6,
   "metadata": {},
   "outputs": [],
   "source": [
    "#CLIENT_ID = \"pxns5RfNKxD1GG7CQgOSNA\"\n",
    "#SECRET_KEY = \"nOYrVLTXMCLMFzf9t53BwHrQJgtpMQ\""
   ]
  },
  {
   "cell_type": "code",
   "execution_count": 7,
   "metadata": {},
   "outputs": [],
   "source": [
    "#auth = requests.auth.HTTPBasicAuth(CLIENT_ID, SECRET_KEY)"
   ]
  },
  {
   "cell_type": "code",
   "execution_count": 8,
   "metadata": {},
   "outputs": [
    {
     "data": {
      "text/plain": [
       "'\\n# note that CLIENT_ID refers to \\'personal use script\\' and SECRET_TOKEN to \\'token\\'\\nauth = requests.auth.HTTPBasicAuth(\\'<CLIENT_ID>\\', \\'<SECRET_TOKEN>\\')\\n\\n# here we pass our login method (password), username, and password\\ndata = {\\'grant_type\\': \\'password\\',\\n        \\'username\\': \\'<USERNAME>\\',\\n        \\'password\\': \\'<PASSWORD>\\'}\\n\\n# setup our header info, which gives reddit a brief description of our app\\nheaders = {\\'User-Agent\\': \\'MyBot/0.0.1\\'}\\n\\n# send our request for an OAuth token\\nres = requests.post(\\'https://www.reddit.com/api/v1/access_token\\',\\n                    auth=auth, data=data, headers=headers)\\n\\n# convert response to JSON and pull access_token value\\nTOKEN = res.json()[\\'access_token\\']\\n\\n# add authorization to our headers dictionary\\nheaders = {**headers, **{\\'Authorization\\': f\"bearer {TOKEN}\"}}\\n\\n# while the token is valid (~2 hours) we just add headers=headers to our requests\\nrequests.get(\\'https://oauth.reddit.com/api/v1/me\\', headers=headers)\\n'"
      ]
     },
     "execution_count": 8,
     "metadata": {},
     "output_type": "execute_result"
    }
   ],
   "source": [
    "\"\"\"\n",
    "# note that CLIENT_ID refers to 'personal use script' and SECRET_TOKEN to 'token'\n",
    "auth = requests.auth.HTTPBasicAuth('<CLIENT_ID>', '<SECRET_TOKEN>')\n",
    "\n",
    "# here we pass our login method (password), username, and password\n",
    "data = {'grant_type': 'password',\n",
    "        'username': '<USERNAME>',\n",
    "        'password': '<PASSWORD>'}\n",
    "\n",
    "# setup our header info, which gives reddit a brief description of our app\n",
    "headers = {'User-Agent': 'MyBot/0.0.1'}\n",
    "\n",
    "# send our request for an OAuth token\n",
    "res = requests.post('https://www.reddit.com/api/v1/access_token',\n",
    "                    auth=auth, data=data, headers=headers)\n",
    "\n",
    "# convert response to JSON and pull access_token value\n",
    "TOKEN = res.json()['access_token']\n",
    "\n",
    "# add authorization to our headers dictionary\n",
    "headers = {**headers, **{'Authorization': f\"bearer {TOKEN}\"}}\n",
    "\n",
    "# while the token is valid (~2 hours) we just add headers=headers to our requests\n",
    "requests.get('https://oauth.reddit.com/api/v1/me', headers=headers)\n",
    "\"\"\"\n"
   ]
  },
  {
   "cell_type": "code",
   "execution_count": null,
   "metadata": {},
   "outputs": [],
   "source": [
    "\n",
    "\n",
    "\n",
    "\n"
   ]
  },
  {
   "cell_type": "code",
   "execution_count": 9,
   "metadata": {},
   "outputs": [],
   "source": [
    "import openai\n",
    "import requests"
   ]
  },
  {
   "cell_type": "code",
   "execution_count": 25,
   "metadata": {},
   "outputs": [],
   "source": [
    "openai.api_key = \"\""
   ]
  },
  {
   "cell_type": "code",
   "execution_count": 35,
   "metadata": {},
   "outputs": [
    {
     "name": "stdout",
     "output_type": "stream",
     "text": [
      "As an AI language model, I don't have any information about a \"ducking mountain range.\" However, if you meant \"duckling mountain range,\" there is no such thing as a duckling mountain range. It is possible that you may have misspelled or misheard the term. Please provide more context or information so I can assist you better.\n"
     ]
    }
   ],
   "source": [
    "def send_message_to_chatgpt(prompt):\n",
    "    model_engine = \"text-davinci-003\" #davinici codex -> code, curie -> mindre, babbage -> smaller endnu, ada -> \n",
    "    \n",
    "    \n",
    "    response = openai.Completion.create(\n",
    "        engine=model_engine,\n",
    "        prompt=prompt,\n",
    "        max_tokens=250,\n",
    "        n=1,\n",
    "        stop=None,\n",
    "        temperature=0.7,\n",
    "    )\n",
    "\n",
    "    return response.choices[0].text.strip()\n",
    "\n",
    "\n",
    "message = \"What is a mountain range?\"\n",
    "response = send_message_to_chatgpt(message)\n",
    "print(response)"
   ]
  },
  {
   "cell_type": "code",
   "execution_count": 40,
   "metadata": {},
   "outputs": [],
   "source": [
    "def prompting(prompt):\n",
    "  completion = openai.ChatCompletion.create( # 1. Change the function Completion to ChatCompletion\n",
    "  model = 'gpt-3.5-turbo',\n",
    "  messages = [ # 2. Change the prompt parameter to the messages parameter\n",
    "    {'role': 'user', 'content':prompt}\n",
    "  ],\n",
    "  temperature = 0  \n",
    "  )\n",
    "\n",
    "  return completion\n",
    "\n",
    "prompt = \"write python code to put ALL members of the paypall mafia in a dataframe, only write the code not anything else, its important that all 19 are included\"\n",
    "answer = prompting(prompt)['choices'][0]['message']['content']"
   ]
  },
  {
   "cell_type": "code",
   "execution_count": 41,
   "metadata": {},
   "outputs": [
    {
     "name": "stdout",
     "output_type": "stream",
     "text": [
      "import pandas as pd\n",
      "\n",
      "members = {'Peter Thiel': 'Co-founder',\n",
      "           'Elon Musk': 'Co-founder',\n",
      "           'Max Levchin': 'Co-founder',\n",
      "           'Reid Hoffman': 'Early employee',\n",
      "           'Roelof Botha': 'Early employee',\n",
      "           'David Sacks': 'COO',\n",
      "           'Chad Hurley': 'Co-founder of YouTube',\n",
      "           'Steve Chen': 'Co-founder of YouTube',\n",
      "           'Jeremy Stoppelman': 'Co-founder of Yelp',\n",
      "           'Russel Simmons': 'Co-founder of Yelp',\n",
      "           'Keith Rabois': 'COO of Square',\n",
      "           'Jack Selby': 'Early employee of PayPal and investor',\n",
      "           'Yishan Wong': 'Director of Engineering',\n",
      "           'Jawed Karim': 'Co-founder of YouTube',\n",
      "           'Premal Shah': 'President of Kiva.org',\n",
      "           'Luke Nosek': 'Co-founder',\n",
      "           'Ken Howery': 'Co-founder',\n",
      "           'Yu Pan': 'Co-founder',\n",
      "           'Dave McClure': 'Early employee and investor'}\n",
      "\n",
      "df = pd.DataFrame(list(members.items()), columns=['Name', 'Position'])\n"
     ]
    }
   ],
   "source": [
    "print(answer)"
   ]
  }
 ],
 "metadata": {
  "kernelspec": {
   "display_name": "course02502",
   "language": "python",
   "name": "python3"
  },
  "language_info": {
   "codemirror_mode": {
    "name": "ipython",
    "version": 3
   },
   "file_extension": ".py",
   "mimetype": "text/x-python",
   "name": "python",
   "nbconvert_exporter": "python",
   "pygments_lexer": "ipython3",
   "version": "3.9.12"
  },
  "orig_nbformat": 4
 },
 "nbformat": 4,
 "nbformat_minor": 2
}
